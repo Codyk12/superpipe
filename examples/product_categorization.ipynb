{
 "cells": [
  {
   "cell_type": "markdown",
   "metadata": {},
   "source": [
    "### Product Categorization Example\n",
    "\n",
    "This notebook shows how to use LabelGen to categorize a list of products (in the form of text descriptions) into a product taxonomy."
   ]
  },
  {
   "cell_type": "markdown",
   "metadata": {},
   "source": []
  }
 ],
 "metadata": {
  "language_info": {
   "name": "python"
  }
 },
 "nbformat": 4,
 "nbformat_minor": 2
}
